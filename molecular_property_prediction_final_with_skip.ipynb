{
 "cells": [
  {
   "cell_type": "markdown",
   "metadata": {
    "id": "JTCASsyypP4K"
   },
   "source": [
    "# Setup"
   ]
  },
  {
   "cell_type": "code",
   "execution_count": null,
   "metadata": {
    "colab": {
     "base_uri": "https://localhost:8080/"
    },
    "id": "G1peiPgqo5IX",
    "outputId": "e7e622b4-bf1c-4257-d174-0bdcb90cdee5"
   },
   "outputs": [],
   "source": [
    "!pip install torch_geometric\n",
    "!pip install rdkit-pypi"
   ]
  },
  {
   "cell_type": "code",
   "execution_count": null,
   "metadata": {
    "id": "atIc86zFnj0c"
   },
   "outputs": [],
   "source": [
    "import torch\n",
    "import torch_geometric\n",
    "from torch_geometric.data import Data\n",
    "from torch_geometric.loader import DataLoader\n",
    "from torch_geometric.datasets import MoleculeNet\n",
    "\n",
    "from torch_geometric.nn import GATv2Conv, DeepGCNLayer\n",
    "from torch_geometric.nn import global_mean_pool as gap\n",
    "import torch.nn.functional as F\n",
    "from torch.nn import Linear\n",
    "import torch.nn as nn\n",
    "import torch.optim as optim\n",
    "\n",
    "from tqdm import tqdm\n",
    "import numpy as np\n",
    "import pandas as pd\n",
    "\n",
    "from rdkit import Chem\n",
    "from rdkit.Chem import AllChem, Descriptors, Lipinski, Crippen, MolSurf, Fragments\n",
    "\n",
    "from sklearn.metrics import roc_auc_score"
   ]
  },
  {
   "cell_type": "markdown",
   "metadata": {},
   "source": [
    "# Training"
   ]
  },
  {
   "cell_type": "markdown",
   "metadata": {},
   "source": [
    "## Preprocessing"
   ]
  },
  {
   "cell_type": "code",
   "execution_count": null,
   "metadata": {},
   "outputs": [],
   "source": [
    "train_dataset = torch.load(\"train_data.pt\")\n",
    "valid_dataset = torch.load(\"valid_data.pt\")"
   ]
  },
  {
   "cell_type": "code",
   "execution_count": null,
   "metadata": {},
   "outputs": [],
   "source": [
    "batch_size = 64\n",
    "train_loader = DataLoader(train_dataset, batch_size=batch_size, shuffle=True)\n",
    "val_loader = DataLoader(valid_dataset, batch_size=batch_size, shuffle=False)"
   ]
  },
  {
   "cell_type": "markdown",
   "metadata": {},
   "source": [
    "## Build model"
   ]
  },
  {
   "cell_type": "code",
   "execution_count": null,
   "metadata": {},
   "outputs": [],
   "source": [
    "class AtomEncoder(torch.nn.Module):\n",
    "    def __init__(self, num_features, hidden_channels):\n",
    "        super(AtomEncoder, self).__init__()\n",
    "\n",
    "        self.embeddings = torch.nn.ModuleList()\n",
    "\n",
    "        for i in range(9):\n",
    "            self.embeddings.append(torch.nn.Embedding(100, hidden_channels))\n",
    "            \n",
    "        if num_features > 9:\n",
    "            self.embeddings.append(torch.nn.Embedding(10000, hidden_channels))\n",
    "            self.embeddings.append(torch.nn.Embedding(200000, hidden_channels))\n",
    "\n",
    "            for i in range(2):\n",
    "                self.embeddings.append(torch.nn.Embedding(10000, hidden_channels))\n",
    "\n",
    "            for i in range(2):\n",
    "                self.embeddings.append(torch.nn.Embedding(100, hidden_channels))\n",
    "\n",
    "    def reset_parameters(self):\n",
    "        for embedding in self.embeddings:\n",
    "            embedding.reset_parameters()\n",
    "\n",
    "    def forward(self, x):\n",
    "        if x.dim() == 1:\n",
    "            x = x.unsqueeze(1)\n",
    "\n",
    "        out = 0\n",
    "        for i in range(x.size(1)):\n",
    "            out += self.embeddings[i](x[:, i])\n",
    "        return out\n",
    "\n",
    "    \n",
    "class GCN(torch.nn.Module):\n",
    "    def __init__(self, hidden_channels, num_node_features, num_classes):\n",
    "        super(GCN, self).__init__()\n",
    "        self.emb = AtomEncoder(num_node_features, hidden_channels=100)\n",
    "        self.gat1 = GATv2Conv(hidden_channels, hidden_channels, heads=18)\n",
    "        self.gat2 = GATv2Conv(hidden_channels*18, hidden_channels, heads=9)\n",
    "        self.gat3 = GATv2Conv(hidden_channels*9, hidden_channels)\n",
    "        self.lin = Linear(hidden_channels, num_classes)\n",
    "\n",
    "    def forward(self, batch):\n",
    "        x , edge_index, batch_size = batch.x, batch.edge_index, batch.batch\n",
    "        x = self.emb(x)\n",
    "        x = self.gat1(x, edge_index)\n",
    "        x = x.relu()\n",
    "        x = self.gat2(x, edge_index)\n",
    "        x = x.relu()\n",
    "        x = self.gat3(x, edge_index)\n",
    "        x = gap(x, batch_size)\n",
    "        x = F.dropout(x, p=0.5, training=self.training)\n",
    "        x = self.lin(x)\n",
    "        return x"
   ]
  },
  {
   "cell_type": "markdown",
   "metadata": {},
   "source": [
    "## Train Model"
   ]
  },
  {
   "cell_type": "code",
   "execution_count": null,
   "metadata": {},
   "outputs": [],
   "source": [
    "def train(model, device, loader, optimizer, criterion):\n",
    "    model.train()\n",
    "\n",
    "    for step, batch in tqdm(enumerate(loader), total=len(loader)):\n",
    "        batch = batch.to(device)\n",
    "        pred = model(batch)\n",
    "        y = batch.y.view(pred.shape).to(torch.float64)\n",
    "\n",
    "        optimizer.zero_grad()\n",
    "        is_labeled = batch.y == batch.y\n",
    "        loss = criterion(pred.to(torch.float32)[is_labeled], batch.y.to(torch.float32)[is_labeled]).mean()\n",
    "        loss.backward()\n",
    "        optimizer.step()\n",
    "\n",
    "def eval(model, device, loader):\n",
    "    model.eval()\n",
    "    y_true = []\n",
    "    y_pred = []\n",
    "    \n",
    "    for batch in loader:\n",
    "\n",
    "        batch = batch.to(device)\n",
    "        if batch.x.shape[0] == 1:\n",
    "            pass\n",
    "        else:\n",
    "            with torch.no_grad():\n",
    "                pred = model(batch)\n",
    "\n",
    "            y_true.append(batch.y.view(pred.shape))\n",
    "            y_pred.append(pred)\n",
    "\n",
    "    y_true = torch.cat(y_true, dim = 0).numpy()\n",
    "    y_pred = torch.cat(y_pred, dim = 0).numpy()\n",
    "\n",
    "    \n",
    "    rocauc_list = []\n",
    "\n",
    "    for i in range(y_true.shape[1]):\n",
    "        if np.sum(y_true[:,i] == 1) > 0 and np.sum(y_true[:,i] == 0) > 0:\n",
    "            is_labeled = y_true[:,i] == y_true[:,i]\n",
    "            rocauc_list.append(roc_auc_score(y_true[is_labeled,i], y_pred[is_labeled,i]))\n",
    "\n",
    "    if len(rocauc_list) == 0:\n",
    "        raise RuntimeError('No positively labeled data available. Cannot compute ROC-AUC.')\n",
    "\n",
    "    return {'rocauc': sum(rocauc_list)/len(rocauc_list)}"
   ]
  },
  {
   "cell_type": "code",
   "execution_count": null,
   "metadata": {},
   "outputs": [],
   "source": [
    "model = GCN(100, 9, 12)\n",
    "optimizer = optim.Adam(model.parameters(), lr=0.001)\n",
    "criterion = nn.BCEWithLogitsLoss(reduction = \"none\")"
   ]
  },
  {
   "cell_type": "code",
   "execution_count": null,
   "metadata": {},
   "outputs": [],
   "source": [
    "device = torch.device(\"cuda\") if torch.cuda.is_available() else torch.device(\"cpu\")\n",
    "print(\"Start training...\")\n",
    "for epoch in range(10):\n",
    "    print(\"====epoch \" + str(epoch + 1))\n",
    "\n",
    "    # training\n",
    "    train(model, device, train_loader, optimizer, criterion)\n",
    "\n",
    "    # evaluating\n",
    "    train_acc = eval(model, device, train_loader)\n",
    "    val_acc = eval(model, device, val_loader)\n",
    "    print({'Train': train_acc, 'Validation': val_acc})"
   ]
  },
  {
   "cell_type": "markdown",
   "metadata": {},
   "source": [
    "# Prediction"
   ]
  },
  {
   "cell_type": "code",
   "execution_count": null,
   "metadata": {
    "colab": {
     "base_uri": "https://localhost:8080/"
    },
    "id": "wqVa56ajntas",
    "outputId": "6a4b393f-2369-4aa7-9a04-40edc8ac3bfd"
   },
   "outputs": [],
   "source": [
    "test_dataset = torch.load(\"test_data.pt\")\n",
    "outputs = pd.DataFrame([model(data).squeeze().detach().numpy() for data in test_dataset])\n",
    "outputs.to_csv(\"test_output.csv\", header=False, index=False)"
   ]
  },
  {
   "cell_type": "markdown",
   "metadata": {},
   "source": [
    "# Additional Work"
   ]
  },
  {
   "cell_type": "markdown",
   "metadata": {},
   "source": [
    "## Molecule representation"
   ]
  },
  {
   "cell_type": "code",
   "execution_count": null,
   "metadata": {},
   "outputs": [],
   "source": [
    "def calculate_molecular_descriptors(mol):\n",
    "    # determine molecule-wide features using rdkit\n",
    "    fr_phos = Fragments.fr_phos_acid(mol) + Fragments.fr_phos_ester(mol)\n",
    "    aromatic_carbocycles = Lipinski.NumAromaticCarbocycles(mol)\n",
    "    mol_log_p = int(100*Crippen.MolLogP(mol) + 4417)\n",
    "    peoe_vsa1 = int(1000*MolSurf.PEOE_VSA1(mol))\n",
    "\n",
    "    mol_weight = int(Descriptors.MolWt(mol))\n",
    "    tpsa = int(Descriptors.TPSA(mol))\n",
    "    num_h_donors = Lipinski.NumHDonors(mol)\n",
    "    num_h_acceptors = Lipinski.NumHAcceptors(mol)\n",
    "\n",
    "    return np.array([fr_phos, aromatic_carbocycles, mol_log_p, peoe_vsa1, mol_weight, tpsa, num_h_donors, num_h_acceptors])\n",
    "\n",
    "def atom_features(atom, molecular_descriptors):\n",
    "    # determine node features using rdkit; molecule-wide features are stored here too\n",
    "    atom_feature = np.array([\n",
    "        atom.GetAtomicNum(),\n",
    "        atom.GetTotalValence(),\n",
    "        atom.IsInRing(),\n",
    "        atom.GetTotalDegree(),\n",
    "        atom.GetNumRadicalElectrons(),\n",
    "        atom.GetIsAromatic(),\n",
    "        atom.GetHybridization().real\n",
    "    ])\n",
    "    return np.concatenate([atom_feature, molecular_descriptors])\n",
    "\n",
    "def bond_features(bond):\n",
    "    # determine bond features using rdkit\n",
    "    return np.array([\n",
    "        bond.GetBondTypeAsDouble(),\n",
    "        bond.GetIsConjugated(),\n",
    "        bond.GetIsAromatic(),\n",
    "        bond.GetStereo(),\n",
    "    ])\n",
    "\n",
    "def generate_fingerprints(mol):\n",
    "    # calculate molecular fingerprint\n",
    "    fp = AllChem.GetMorganFingerprintAsBitVect(mol, radius=2, nBits=1024)\n",
    "    return np.array(fp)\n",
    "\n",
    "def molecule_to_graph(smiles, label=None):\n",
    "    # load rdkit molecule from SMILES\n",
    "    mol = Chem.MolFromSmiles(smiles)\n",
    "    \n",
    "    # calculate molecule-wide features\n",
    "    molecular_descriptors = calculate_molecular_descriptors(mol)\n",
    "    fingerprints = generate_fingerprints(mol)\n",
    "\n",
    "    # calculate node features\n",
    "    node_features = np.array([atom_features(atom, molecular_descriptors) for atom in mol.GetAtoms()])\n",
    "    x = torch.tensor(node_features, dtype=torch.long)\n",
    "\n",
    "    # generate edge matrix, edge features\n",
    "    edge_indices = []\n",
    "    edge_features = []\n",
    "    for bond in mol.GetBonds():\n",
    "        i = bond.GetBeginAtomIdx()\n",
    "        j = bond.GetEndAtomIdx()\n",
    "        edge_indices += [[i, j], [j, i]]\n",
    "        edge_features += [bond_features(bond), bond_features(bond)]\n",
    "\n",
    "    edge_index = torch.tensor(edge_indices, dtype=torch.long).t().contiguous()\n",
    "    edge_attr = torch.tensor(edge_features, dtype=torch.long)\n",
    "    fp = torch.tensor(fingerprints, dtype=torch.long)\n",
    "\n",
    "    # if labelled, include in Data object. fingerprints stored as their own field.\n",
    "    if label is not None:\n",
    "        y = label\n",
    "        return Data(x=x, edge_index=edge_index, edge_attr=edge_attr, y=y, fp=fp)\n",
    "    else:\n",
    "        return Data(x=x, edge_index=edge_index, edge_attr=edge_attr, fp=fp)"
   ]
  },
  {
   "cell_type": "code",
   "execution_count": null,
   "metadata": {},
   "outputs": [],
   "source": [
    "train_features = [molecule_to_graph(raw.smiles, raw.y) for raw in train_dataset]\n",
    "valid_features = [molecule_to_graph(raw.smiles, raw.y) for raw in valid_dataset]\n",
    "# test_features = [molecule_to_graph(raw.smiles) for raw in test_dataset]"
   ]
  },
  {
   "cell_type": "code",
   "execution_count": null,
   "metadata": {},
   "outputs": [],
   "source": [
    "train_loader = DataLoader(train_features, batch_size=batch_size, shuffle=True)\n",
    "val_loader = DataLoader(valid_features, batch_size=batch_size, shuffle=False)"
   ]
  },
  {
   "cell_type": "code",
   "execution_count": null,
   "metadata": {},
   "outputs": [],
   "source": [
    "model = GCN(100, 15, 12)\n",
    "optimizer = optim.Adam(model.parameters(), lr=0.001)\n",
    "criterion = nn.BCEWithLogitsLoss(reduction = \"none\")"
   ]
  },
  {
   "cell_type": "markdown",
   "metadata": {},
   "source": [
    "## Skip layers"
   ]
  },
  {
   "cell_type": "markdown",
   "metadata": {},
   "source": [
    "The code was modified with various skip combinations. One of the examples is below. The scores were compared to find if skipping was effective or not."
   ]
  },
  {
   "cell_type": "code",
   "execution_count": null,
   "metadata": {},
   "outputs": [],
   "source": [
    "# Atom encoder\n",
    "\n",
    "class AtomEncoder(torch.nn.Module):\n",
    "    def __init__(self, hidden_channels):\n",
    "        super(AtomEncoder, self).__init__()\n",
    "\n",
    "        self.embeddings = torch.nn.ModuleList()\n",
    "\n",
    "        for i in range(9):\n",
    "            self.embeddings.append(torch.nn.Embedding(300, hidden_channels))\n",
    "\n",
    "    def reset_parameters(self):\n",
    "        for embedding in self.embeddings:\n",
    "            embedding.reset_parameters()\n",
    "\n",
    "    def forward(self, x):\n",
    "        if x.dim() == 1:\n",
    "            x = x.unsqueeze(1)\n",
    "\n",
    "        out = 0\n",
    "        for i in range(x.size(1)):\n",
    "            out += self.embeddings[i](x[:, i])\n",
    "        return out\n",
    "\n",
    "\n",
    "# A simple graph neural network model\n",
    "\n",
    "from torch_geometric.nn import GCNConv, GATv2Conv, DeepGCNLayer\n",
    "from torch_geometric.nn import global_mean_pool as gap\n",
    "import torch.nn.functional as F\n",
    "from torch.nn import Linear\n",
    "class GCN(torch.nn.Module):\n",
    "    def __init__(self, hidden_channels, num_node_features, num_classes):\n",
    "        super(GCN, self).__init__()\n",
    "        # torch.manual_seed(42)\n",
    "        self.emb = AtomEncoder(hidden_channels=100)\n",
    "        self.gat1 = GATv2Conv(hidden_channels, hidden_channels)\n",
    "        self.gat2 = GATv2Conv(hidden_channels, hidden_channels)\n",
    "        self.gat3 = GATv2Conv(hidden_channels, hidden_channels)\n",
    "        self.gat4 = GATv2Conv(hidden_channels, hidden_channels)\n",
    "        self.gat5 = GATv2Conv(hidden_channels, hidden_channels)\n",
    "        self.lin = Linear(hidden_channels, num_classes)\n",
    "\n",
    "    def forward(self, batch):\n",
    "        x , edge_index, batch_size = batch.x, batch.edge_index, batch.batch\n",
    "        x = self.emb(x)\n",
    "        x = self.gat1(x, edge_index)\n",
    "        x = x.relu()\n",
    "        x_out1 = x.clone()\n",
    "        x = self.gat2(x, edge_index)\n",
    "        x = x.relu()\n",
    "        x = self.gat3(x, edge_index)\n",
    "        x = x.relu()\n",
    "        x = x + self.gat4(x, edge_index)\n",
    "        x = x.relu()\n",
    "        x = x + x_out1\n",
    "        x = x + self.gat5(x, edge_index)\n",
    "        \n",
    "\n",
    "        # 2. Readout layer\n",
    "        x = gap(x, batch_size)  # [batch_size, hidden_channels]\n",
    "        # 3. Apply a final classifier\n",
    "        x = F.dropout(x, p=0.5, training=self.training)\n",
    "        x = self.lin(x)\n",
    "        return x"
   ]
  }
 ],
 "metadata": {
  "colab": {
   "provenance": [],
   "toc_visible": true
  },
  "kernelspec": {
   "display_name": "Python 3",
   "language": "python",
   "name": "python3"
  },
  "language_info": {
   "codemirror_mode": {
    "name": "ipython",
    "version": 3
   },
   "file_extension": ".py",
   "mimetype": "text/x-python",
   "name": "python",
   "nbconvert_exporter": "python",
   "pygments_lexer": "ipython3",
   "version": "3.8.5"
  }
 },
 "nbformat": 4,
 "nbformat_minor": 4
}
